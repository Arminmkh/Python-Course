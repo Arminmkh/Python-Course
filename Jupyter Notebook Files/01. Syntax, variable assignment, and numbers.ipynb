{
 "cells": [
  {
   "cell_type": "markdown",
   "id": "b2acc4ea",
   "metadata": {},
   "source": [
    "<div style=\"text-align: center;\" lang=\"fa\" dir=\"rtl\">\n",
    "\n",
    "<a href=\"https://uk.ac.ir\" title=”SBUK”>\n",
    "    <img src=\"https://upload.wikimedia.org/wikipedia/commons/thumb/0/03/Bahonar_university.png/1200px-Bahonar_university.png\"\n",
    "         title=\"دانشگاه شهید باهنر کرمان\"\n",
    "         alt=\"لوگوی دانشگاه\"\n",
    "         height=\"48\"\n",
    "         width=\"100\"/>\n",
    "    </a>\n",
    "    \n",
    "<h1><span style=\"color:red\">\n",
    "Python for Data Science <br>    Syntax, variable assignment, and numbers\n",
    "    </span></h1>\n",
    "    <h3>\n",
    "        Developed by <a href=\"https://www.arminmokhtari.ir\" title=\"ArminMokhtari.ir\">Armin Mokhtari</a>\n",
    "    </h3>\n",
    "</div>\n"
   ]
  },
  {
   "cell_type": "markdown",
   "id": "9236ae1a",
   "metadata": {},
   "source": [
    "# Assigning variables:"
   ]
  },
  {
   "cell_type": "code",
   "execution_count": null,
   "id": "de7618ef",
   "metadata": {
    "scrolled": true
   },
   "outputs": [],
   "source": [
    "NAME = \"Armin\"\n",
    "HEIGHT = 173\n",
    "WEIGHT = 82.2\n",
    "\n",
    "Print(NAME)\n",
    "Print(HEIGHT)\n",
    "Print(WEIGHT)\n",
    "\n",
    "# What do you think about the output?"
   ]
  },
  {
   "cell_type": "markdown",
   "id": "b3ee3cc4",
   "metadata": {},
   "source": [
    "### Python is case-sensitive!"
   ]
  },
  {
   "cell_type": "code",
   "execution_count": null,
   "id": "4f693a56",
   "metadata": {},
   "outputs": [],
   "source": [
    "print(NAME)\n",
    "print(HEIGHT)\n",
    "print(WEIGHT)"
   ]
  },
  {
   "cell_type": "code",
   "execution_count": null,
   "id": "a0fc7b4a",
   "metadata": {},
   "outputs": [],
   "source": [
    "type(NAME)\n",
    "type(HEIGHT)\n",
    "type(WEIGHT)\n",
    "\n",
    "# Guess the output..."
   ]
  },
  {
   "cell_type": "markdown",
   "id": "8be2c2f8",
   "metadata": {},
   "source": [
    "### Jupyter shows the last resault.\n",
    "You can use this syntax:\n",
    "\n",
    "from IPython.core.interactiveshell import InteractiveShell\n",
    "\n",
    "InteractiveShell.ast_node_interactivity = \"all\"\n",
    "\n",
    "### OR:"
   ]
  },
  {
   "cell_type": "code",
   "execution_count": null,
   "id": "c0f5d81a",
   "metadata": {
    "scrolled": false
   },
   "outputs": [],
   "source": [
    "print(type(NAME))  #It is a string\n",
    "print(type(HEIGHT))\n",
    "print(type(WEIGHT))\n",
    "\"\"\" It is a\n",
    "multiple line\n",
    "comment \"\"\""
   ]
  },
  {
   "cell_type": "code",
   "execution_count": null,
   "id": "ee41468c",
   "metadata": {},
   "outputs": [],
   "source": [
    "x = 4\n",
    "y = 2"
   ]
  },
  {
   "cell_type": "markdown",
   "id": "e61d7299",
   "metadata": {},
   "source": [
    "## Swapping:"
   ]
  },
  {
   "cell_type": "code",
   "execution_count": null,
   "id": "637d28c2",
   "metadata": {},
   "outputs": [],
   "source": [
    "c = x\n",
    "x = y\n",
    "y = c\n",
    "\n",
    "print(x)\n",
    "print(y)"
   ]
  },
  {
   "cell_type": "markdown",
   "id": "c70b0a7f",
   "metadata": {},
   "source": [
    "## Multiple Assignment:"
   ]
  },
  {
   "cell_type": "code",
   "execution_count": null,
   "id": "d5d49ef0",
   "metadata": {},
   "outputs": [],
   "source": [
    "a = b = c = 25\n",
    "\n",
    "print(a, b, c)"
   ]
  },
  {
   "cell_type": "markdown",
   "id": "c48e9d6f",
   "metadata": {},
   "source": [
    "# Numbers and Arithmetic:"
   ]
  },
  {
   "cell_type": "code",
   "execution_count": null,
   "id": "fcb49473",
   "metadata": {},
   "outputs": [],
   "source": [
    "5 / 2"
   ]
  },
  {
   "cell_type": "code",
   "execution_count": null,
   "id": "c0b163c4",
   "metadata": {},
   "outputs": [],
   "source": [
    "5 // 2"
   ]
  },
  {
   "cell_type": "code",
   "execution_count": null,
   "id": "c7851888",
   "metadata": {},
   "outputs": [],
   "source": [
    "5 % 2"
   ]
  },
  {
   "cell_type": "markdown",
   "id": "00aa678b",
   "metadata": {},
   "source": [
    "## Order of Operations:"
   ]
  },
  {
   "cell_type": "code",
   "execution_count": null,
   "id": "5a6d2cf1",
   "metadata": {},
   "outputs": [],
   "source": [
    "2+2/4"
   ]
  },
  {
   "cell_type": "code",
   "execution_count": null,
   "id": "9982e411",
   "metadata": {
    "scrolled": true
   },
   "outputs": [],
   "source": [
    "# Calculate the following equation on paper. Then, execute this cell.\n",
    "2/1**2-1/(2/1-4**0.5+1)**0.5"
   ]
  },
  {
   "cell_type": "markdown",
   "id": "590c1f2a",
   "metadata": {},
   "source": [
    "## Builtin Functions:"
   ]
  },
  {
   "cell_type": "code",
   "execution_count": null,
   "id": "4e47d9ea",
   "metadata": {},
   "outputs": [],
   "source": [
    "max(10, 20, 100)"
   ]
  },
  {
   "cell_type": "code",
   "execution_count": null,
   "id": "87dce4f6",
   "metadata": {},
   "outputs": [],
   "source": [
    "min(10, 20, 100)"
   ]
  },
  {
   "cell_type": "code",
   "execution_count": null,
   "id": "470acd25",
   "metadata": {},
   "outputs": [],
   "source": [
    "abs(-8/3)"
   ]
  },
  {
   "cell_type": "code",
   "execution_count": null,
   "id": "3e16ba3b",
   "metadata": {},
   "outputs": [],
   "source": [
    "int (1.5)"
   ]
  },
  {
   "cell_type": "code",
   "execution_count": null,
   "id": "0c1e39ed",
   "metadata": {},
   "outputs": [],
   "source": [
    "int(-1/3)"
   ]
  },
  {
   "cell_type": "code",
   "execution_count": null,
   "id": "6a21323b",
   "metadata": {},
   "outputs": [],
   "source": [
    "print(10)"
   ]
  },
  {
   "cell_type": "code",
   "execution_count": null,
   "id": "da9aab7d",
   "metadata": {},
   "outputs": [],
   "source": [
    "print(float(10))"
   ]
  },
  {
   "cell_type": "markdown",
   "id": "c84dbe29",
   "metadata": {},
   "source": [
    "## Assignment 1:\n",
    "- Put your first name in variable x and your last name in variable y.\n",
    "- Swap x and y without defining any other variables.\n",
    "- Print x and y."
   ]
  },
  {
   "cell_type": "code",
   "execution_count": null,
   "id": "60f3707c",
   "metadata": {},
   "outputs": [],
   "source": [
    "# Write the answer here:\n",
    "\n",
    "\n",
    "\n",
    "\n",
    "\n",
    "\n",
    "\n"
   ]
  },
  {
   "cell_type": "markdown",
   "id": "3f49784f",
   "metadata": {},
   "source": [
    "<div style=\"text-align: center;\" lang=\"fa\" dir=\"ltr\">\n",
    "\n",
    "<a href=\"https://uk.ac.ir\" title=”SBUK”>\n",
    "    <img src=\"https://www.freepnglogos.com/uploads/telegram-logo-png-0.png\"\n",
    "         title=\"Telegram\"\n",
    "         alt=\"Telegram's logo\"\n",
    "         height=\"48\"\n",
    "         width=\"100\"/>\n",
    "    </a>\n",
    "    \n",
    "<h1><span style=\"color:red\">\n",
    "If you have any difficulties, reach me on Telegram at:\n",
    "    </span></h1>\n",
    "    <h3>\n",
    "         <a href=\"https://www.t.me/armmkh\" title=\"@armmkh\">+1(216)508-0291</a>\n",
    "    </h3>\n",
    "</div>"
   ]
  }
 ],
 "metadata": {
  "kernelspec": {
   "display_name": "Python 3 (ipykernel)",
   "language": "python",
   "name": "python3"
  },
  "language_info": {
   "codemirror_mode": {
    "name": "ipython",
    "version": 3
   },
   "file_extension": ".py",
   "mimetype": "text/x-python",
   "name": "python",
   "nbconvert_exporter": "python",
   "pygments_lexer": "ipython3",
   "version": "3.9.7"
  }
 },
 "nbformat": 4,
 "nbformat_minor": 5
}
