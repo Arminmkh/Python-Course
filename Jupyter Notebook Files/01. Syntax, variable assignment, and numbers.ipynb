{
 "cells": [
  {
   "cell_type": "markdown",
   "id": "b2acc4ea",
   "metadata": {},
   "source": [
    "<div style=\"text-align: center;\" lang=\"fa\" dir=\"rtl\">\n",
    "\n",
    "<a href=\"https://uk.ac.ir\" title=”SBUK”>\n",
    "    <img src=\"https://upload.wikimedia.org/wikipedia/commons/thumb/0/03/Bahonar_university.png/1200px-Bahonar_university.png\"\n",
    "         title=\"دانشگاه شهید باهنر کرمان\"\n",
    "         alt=\"لوگوی دانشگاه\"\n",
    "         height=\"48\"\n",
    "         width=\"100\"/>\n",
    "    </a>\n",
    "    \n",
    "<h1><span style=\"color:red\">\n",
    "Python for Data Science <br>    Syntax, variable assignment, and numbers\n",
    "    </span></h1>\n",
    "    <h3>\n",
    "        Developed by <a href=\"https://www.arminmokhtari.ir\" title=\"ArminMokhtari.ir\">Armin Mokhtari</a>\n",
    "    </h3>\n",
    "</div>\n"
   ]
  },
  {
   "cell_type": "markdown",
   "id": "9236ae1a",
   "metadata": {},
   "source": [
    "# 1. Assigning variables:"
   ]
  },
  {
   "cell_type": "code",
   "execution_count": 1,
   "id": "de7618ef",
   "metadata": {
    "scrolled": true
   },
   "outputs": [
    {
     "ename": "NameError",
     "evalue": "name 'Print' is not defined",
     "output_type": "error",
     "traceback": [
      "\u001b[1;31m---------------------------------------------------------------------------\u001b[0m",
      "\u001b[1;31mNameError\u001b[0m                                 Traceback (most recent call last)",
      "\u001b[1;32m~\\AppData\\Local\\Temp/ipykernel_4044/92077535.py\u001b[0m in \u001b[0;36m<module>\u001b[1;34m\u001b[0m\n\u001b[0;32m      3\u001b[0m \u001b[0mWEIGHT\u001b[0m \u001b[1;33m=\u001b[0m \u001b[1;36m82.2\u001b[0m\u001b[1;33m\u001b[0m\u001b[1;33m\u001b[0m\u001b[0m\n\u001b[0;32m      4\u001b[0m \u001b[1;33m\u001b[0m\u001b[0m\n\u001b[1;32m----> 5\u001b[1;33m \u001b[0mPrint\u001b[0m\u001b[1;33m(\u001b[0m\u001b[0mNAME\u001b[0m\u001b[1;33m)\u001b[0m\u001b[1;33m\u001b[0m\u001b[1;33m\u001b[0m\u001b[0m\n\u001b[0m\u001b[0;32m      6\u001b[0m \u001b[0mPrint\u001b[0m\u001b[1;33m(\u001b[0m\u001b[0mHEIGHT\u001b[0m\u001b[1;33m)\u001b[0m\u001b[1;33m\u001b[0m\u001b[1;33m\u001b[0m\u001b[0m\n\u001b[0;32m      7\u001b[0m \u001b[0mPrint\u001b[0m\u001b[1;33m(\u001b[0m\u001b[0mWEIGHT\u001b[0m\u001b[1;33m)\u001b[0m\u001b[1;33m\u001b[0m\u001b[1;33m\u001b[0m\u001b[0m\n",
      "\u001b[1;31mNameError\u001b[0m: name 'Print' is not defined"
     ]
    }
   ],
   "source": [
    "NAME = \"Armin\"\n",
    "HEIGHT = 173\n",
    "WEIGHT = 82.2\n",
    "\n",
    "Print(NAME)\n",
    "Print(HEIGHT)\n",
    "Print(WEIGHT)"
   ]
  },
  {
   "cell_type": "markdown",
   "id": "b3ee3cc4",
   "metadata": {},
   "source": [
    "# What do you think about the output?\n",
    ".\n",
    "\n",
    ".\n",
    "\n",
    ".\n",
    "\n",
    ".\n",
    "\n",
    ".\n",
    "\n",
    ".\n",
    "\n",
    ".\n",
    "\n",
    ".\n",
    "# Python is case-sensitive, the correct code is beneath:"
   ]
  },
  {
   "cell_type": "code",
   "execution_count": 2,
   "id": "4f693a56",
   "metadata": {},
   "outputs": [
    {
     "name": "stdout",
     "output_type": "stream",
     "text": [
      "Armin\n",
      "173\n",
      "82.2\n"
     ]
    }
   ],
   "source": [
    "print(NAME)\n",
    "print(HEIGHT)\n",
    "print(WEIGHT)"
   ]
  },
  {
   "cell_type": "code",
   "execution_count": 3,
   "id": "a0fc7b4a",
   "metadata": {},
   "outputs": [
    {
     "data": {
      "text/plain": [
       "str"
      ]
     },
     "execution_count": 3,
     "metadata": {},
     "output_type": "execute_result"
    }
   ],
   "source": [
    "type(NAME)"
   ]
  },
  {
   "cell_type": "code",
   "execution_count": 4,
   "id": "d69737ec",
   "metadata": {
    "scrolled": true
   },
   "outputs": [
    {
     "data": {
      "text/plain": [
       "float"
      ]
     },
     "execution_count": 4,
     "metadata": {},
     "output_type": "execute_result"
    }
   ],
   "source": [
    "type(NAME)\n",
    "type(HEIGHT)\n",
    "type(WEIGHT)"
   ]
  },
  {
   "cell_type": "markdown",
   "id": "8be2c2f8",
   "metadata": {},
   "source": [
    "# What do you think about the output?\n",
    ".\n",
    "\n",
    ".\n",
    "\n",
    ".\n",
    "\n",
    ".\n",
    "\n",
    ".\n",
    "\n",
    ".\n",
    "\n",
    ".\n",
    "\n",
    ".\n",
    "# Jupyter shows the last resault.\n",
    "## You can use this syntax:\n",
    "from IPython.core.interactiveshell import InteractiveShell\n",
    "\n",
    "InteractiveShell.ast_node_interactivity = \"all\"\n",
    "## print function also can be used:"
   ]
  },
  {
   "cell_type": "code",
   "execution_count": 5,
   "id": "c0f5d81a",
   "metadata": {
    "scrolled": false
   },
   "outputs": [
    {
     "name": "stdout",
     "output_type": "stream",
     "text": [
      "<class 'str'>\n",
      "<class 'int'>\n",
      "<class 'float'>\n"
     ]
    }
   ],
   "source": [
    "print(type(NAME))  #It is a string\n",
    "print(type(HEIGHT))\n",
    "print(type(WEIGHT))\n",
    "\"\"\" It is a\n",
    "multiplr line\n",
    "comment \"\"\""
   ]
  },
  {
   "cell_type": "code",
   "execution_count": 6,
   "id": "ee41468c",
   "metadata": {},
   "outputs": [],
   "source": [
    "x = 4\n",
    "y = 2"
   ]
  },
  {
   "cell_type": "markdown",
   "id": "e61d7299",
   "metadata": {},
   "source": [
    "# How to swap x and y?\n",
    ".\n",
    "\n",
    ".\n",
    "\n",
    ".\n",
    "\n",
    ".\n",
    "\n",
    ".\n",
    "\n",
    ".\n",
    "\n",
    ".\n",
    "\n",
    "."
   ]
  },
  {
   "cell_type": "code",
   "execution_count": 7,
   "id": "637d28c2",
   "metadata": {},
   "outputs": [
    {
     "name": "stdout",
     "output_type": "stream",
     "text": [
      "2\n",
      "4\n"
     ]
    }
   ],
   "source": [
    "c = x\n",
    "x = y\n",
    "y = c\n",
    "\n",
    "print(x)\n",
    "print(y)"
   ]
  },
  {
   "cell_type": "markdown",
   "id": "c70b0a7f",
   "metadata": {},
   "source": [
    "# Multiple Assignment:"
   ]
  },
  {
   "cell_type": "code",
   "execution_count": 8,
   "id": "d5d49ef0",
   "metadata": {},
   "outputs": [
    {
     "name": "stdout",
     "output_type": "stream",
     "text": [
      "25 25 25\n"
     ]
    }
   ],
   "source": [
    "a = b = c = 25\n",
    "\n",
    "print(a, b, c)"
   ]
  },
  {
   "cell_type": "markdown",
   "id": "c84dbe29",
   "metadata": {},
   "source": [
    "# An easier approach to swap x and y:"
   ]
  },
  {
   "cell_type": "code",
   "execution_count": 9,
   "id": "60f3707c",
   "metadata": {},
   "outputs": [
    {
     "name": "stdout",
     "output_type": "stream",
     "text": [
      "4\n",
      "2\n"
     ]
    }
   ],
   "source": [
    "x, y = y, x\n",
    "\n",
    "print(x)\n",
    "print(y)"
   ]
  },
  {
   "cell_type": "markdown",
   "id": "c48e9d6f",
   "metadata": {},
   "source": [
    "# 2. Numbers and Arithmetic:"
   ]
  },
  {
   "cell_type": "code",
   "execution_count": 10,
   "id": "fcb49473",
   "metadata": {},
   "outputs": [
    {
     "data": {
      "text/plain": [
       "2.5"
      ]
     },
     "execution_count": 10,
     "metadata": {},
     "output_type": "execute_result"
    }
   ],
   "source": [
    "5 / 2"
   ]
  },
  {
   "cell_type": "code",
   "execution_count": 11,
   "id": "c0b163c4",
   "metadata": {},
   "outputs": [
    {
     "data": {
      "text/plain": [
       "2"
      ]
     },
     "execution_count": 11,
     "metadata": {},
     "output_type": "execute_result"
    }
   ],
   "source": [
    "5 // 2"
   ]
  },
  {
   "cell_type": "code",
   "execution_count": 12,
   "id": "c7851888",
   "metadata": {},
   "outputs": [
    {
     "data": {
      "text/plain": [
       "1"
      ]
     },
     "execution_count": 12,
     "metadata": {},
     "output_type": "execute_result"
    }
   ],
   "source": [
    "5 % 2"
   ]
  },
  {
   "cell_type": "markdown",
   "id": "00aa678b",
   "metadata": {},
   "source": [
    "# Order of Operations:"
   ]
  },
  {
   "cell_type": "code",
   "execution_count": 13,
   "id": "9982e411",
   "metadata": {
    "scrolled": true
   },
   "outputs": [
    {
     "data": {
      "text/plain": [
       "1.0"
      ]
     },
     "execution_count": 13,
     "metadata": {},
     "output_type": "execute_result"
    }
   ],
   "source": [
    "2/1**2-1/(2/1-4**0.5+1)**0.5"
   ]
  },
  {
   "cell_type": "markdown",
   "id": "590c1f2a",
   "metadata": {},
   "source": [
    "# Builtin Functions:"
   ]
  },
  {
   "cell_type": "code",
   "execution_count": 14,
   "id": "4e47d9ea",
   "metadata": {},
   "outputs": [
    {
     "data": {
      "text/plain": [
       "100"
      ]
     },
     "execution_count": 14,
     "metadata": {},
     "output_type": "execute_result"
    }
   ],
   "source": [
    "max(10, 20, 100)"
   ]
  },
  {
   "cell_type": "code",
   "execution_count": 15,
   "id": "87dce4f6",
   "metadata": {},
   "outputs": [
    {
     "data": {
      "text/plain": [
       "10"
      ]
     },
     "execution_count": 15,
     "metadata": {},
     "output_type": "execute_result"
    }
   ],
   "source": [
    "min(10, 20, 100)"
   ]
  },
  {
   "cell_type": "code",
   "execution_count": 16,
   "id": "470acd25",
   "metadata": {},
   "outputs": [
    {
     "data": {
      "text/plain": [
       "0.3333333333333333"
      ]
     },
     "execution_count": 16,
     "metadata": {},
     "output_type": "execute_result"
    }
   ],
   "source": [
    "abs(-1/3)"
   ]
  },
  {
   "cell_type": "code",
   "execution_count": 17,
   "id": "0c1e39ed",
   "metadata": {},
   "outputs": [
    {
     "data": {
      "text/plain": [
       "0"
      ]
     },
     "execution_count": 17,
     "metadata": {},
     "output_type": "execute_result"
    }
   ],
   "source": [
    "int(-1/3)"
   ]
  },
  {
   "cell_type": "code",
   "execution_count": 18,
   "id": "6a21323b",
   "metadata": {},
   "outputs": [
    {
     "name": "stdout",
     "output_type": "stream",
     "text": [
      "10\n",
      "10.0\n"
     ]
    }
   ],
   "source": [
    "print(10)\n",
    "print(float(10))"
   ]
  },
  {
   "cell_type": "markdown",
   "id": "3f49784f",
   "metadata": {},
   "source": [
    "<div style=\"text-align: center;\" lang=\"fa\" dir=\"ltr\">\n",
    "\n",
    "<a href=\"https://uk.ac.ir\" title=”SBUK”>\n",
    "    <img src=\"https://www.freepnglogos.com/uploads/telegram-logo-png-0.png\"\n",
    "         title=\"Telegram\"\n",
    "         alt=\"Telegram's logo\"\n",
    "         height=\"48\"\n",
    "         width=\"100\"/>\n",
    "    </a>\n",
    "    \n",
    "<h1><span style=\"color:red\">\n",
    "If you have any difficulties, reach me on Telegram at:\n",
    "    </span></h1>\n",
    "    <h3>\n",
    "         <a href=\"https://www.t.me/armmkh\" title=\"@armmkh\">+1(216)508-0291</a>\n",
    "    </h3>\n",
    "</div>"
   ]
  }
 ],
 "metadata": {
  "kernelspec": {
   "display_name": "Python 3 (ipykernel)",
   "language": "python",
   "name": "python3"
  },
  "language_info": {
   "codemirror_mode": {
    "name": "ipython",
    "version": 3
   },
   "file_extension": ".py",
   "mimetype": "text/x-python",
   "name": "python",
   "nbconvert_exporter": "python",
   "pygments_lexer": "ipython3",
   "version": "3.9.7"
  }
 },
 "nbformat": 4,
 "nbformat_minor": 5
}
