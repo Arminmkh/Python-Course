{
 "cells": [
  {
   "cell_type": "markdown",
   "id": "b2acc4ea",
   "metadata": {},
   "source": [
    "<div style=\"text-align: center;\" lang=\"fa\" dir=\"rtl\">\n",
    "\n",
    "<a href=\"https://uk.ac.ir\" title=”SBUK”>\n",
    "    <img src=\"https://upload.wikimedia.org/wikipedia/commons/thumb/0/03/Bahonar_university.png/1200px-Bahonar_university.png\"\n",
    "         title=\"دانشگاه شهید باهنر کرمان\"\n",
    "         alt=\"لوگوی دانشگاه\"\n",
    "         height=\"48\"\n",
    "         width=\"100\"/>\n",
    "    </a>\n",
    "    \n",
    "<h1><span style=\"color:red\">\n",
    "Python for Data Science<br>Conditionals\n",
    "    </span></h1>\n",
    "    <h3>\n",
    "        Developed by <a href=\"https://www.arminmokhtari.ir\" title=\"ArminMokhtari.ir\">Armin Mokhtari</a>\n",
    "    </h3>\n",
    "</div>\n"
   ]
  },
  {
   "cell_type": "markdown",
   "id": "9236ae1a",
   "metadata": {},
   "source": [
    "# Comparison in Python:\n",
    "\n",
    "\n",
    "a == b  :\t\t\ta is equal to b\n",
    "\n",
    "a  <  b :\t\t\ta is less than b\n",
    "\n",
    "a  >  b\t:\t\t\ta is greater than b\n",
    "\n",
    "a <= b\t:\t\t\ta is less than or equal to b\n",
    "\n",
    "a >= b\t:\t\t\ta is greater than or equal to b\n",
    "\n",
    "a != b\t:\t\t\ta is not equal to b"
   ]
  },
  {
   "cell_type": "code",
   "execution_count": null,
   "id": "d7be9d5f",
   "metadata": {
    "scrolled": true
   },
   "outputs": [],
   "source": [
    "1 == 2"
   ]
  },
  {
   "cell_type": "code",
   "execution_count": null,
   "id": "46d4819f",
   "metadata": {},
   "outputs": [],
   "source": [
    "8 / 4 == 2"
   ]
  },
  {
   "cell_type": "code",
   "execution_count": null,
   "id": "df00a612",
   "metadata": {},
   "outputs": [],
   "source": [
    "True == True"
   ]
  },
  {
   "cell_type": "code",
   "execution_count": null,
   "id": "963b90ee",
   "metadata": {},
   "outputs": [],
   "source": [
    "2 > True\n",
    "# Guess the output before execution"
   ]
  },
  {
   "cell_type": "code",
   "execution_count": null,
   "id": "de7618ef",
   "metadata": {
    "scrolled": false
   },
   "outputs": [],
   "source": [
    "1 == True"
   ]
  },
  {
   "cell_type": "code",
   "execution_count": null,
   "id": "3cff975d",
   "metadata": {},
   "outputs": [],
   "source": [
    "'True' == True\n",
    "# Guess the output before execution"
   ]
  },
  {
   "cell_type": "code",
   "execution_count": null,
   "id": "fc7d86d0",
   "metadata": {},
   "outputs": [],
   "source": [
    "bool('False') == True\n",
    "# Guess the output before execution"
   ]
  },
  {
   "cell_type": "code",
   "execution_count": null,
   "id": "08a46a1d",
   "metadata": {
    "scrolled": true
   },
   "outputs": [],
   "source": [
    "type ('True' == True)\n",
    "# Guess the output before execution"
   ]
  },
  {
   "cell_type": "markdown",
   "id": "49646729",
   "metadata": {},
   "source": [
    "# Back to slides\n",
    "\n",
    "### Assignment:\n",
    "\n",
    "Define a function that returns True for even numbers and False for odd numbers."
   ]
  },
  {
   "cell_type": "code",
   "execution_count": null,
   "id": "7b65dda2",
   "metadata": {},
   "outputs": [],
   "source": [
    "# Define your function here.\n"
   ]
  },
  {
   "cell_type": "code",
   "execution_count": null,
   "id": "09a43e18",
   "metadata": {},
   "outputs": [],
   "source": [
    "# Test your function here.\n"
   ]
  },
  {
   "cell_type": "markdown",
   "id": "ba148471",
   "metadata": {},
   "source": [
    "# Back to slides\n",
    "## Other Comparisons:\n",
    "### a \tis \t\tb:\t\t\t\t\n",
    "a has a same identity with b\n",
    "\n",
    "### a \tis not \tb:\t\t\t\t\n",
    "a has a different identity with b\n",
    "\n",
    "### a \tin  \t\tb:\t\t\t\n",
    "a is a member of b\n",
    "\n",
    "### a \tnot in \tb:\t\t\t\t\n",
    "a is not a member of b\n"
   ]
  },
  {
   "cell_type": "code",
   "execution_count": null,
   "id": "fcb5feff",
   "metadata": {},
   "outputs": [],
   "source": [
    "a = 2\n",
    "b = a\n",
    "a is b"
   ]
  },
  {
   "cell_type": "code",
   "execution_count": null,
   "id": "b960c192",
   "metadata": {},
   "outputs": [],
   "source": [
    "c = float (a)\n",
    "c == a"
   ]
  },
  {
   "cell_type": "code",
   "execution_count": null,
   "id": "79cae196",
   "metadata": {},
   "outputs": [],
   "source": [
    "c is not a\n",
    "# Guess the output before execution"
   ]
  },
  {
   "cell_type": "code",
   "execution_count": null,
   "id": "c1ca3486",
   "metadata": {},
   "outputs": [],
   "source": [
    "l = range(0, 100, 2)\n",
    "88 in l"
   ]
  },
  {
   "cell_type": "code",
   "execution_count": null,
   "id": "047a233e",
   "metadata": {},
   "outputs": [],
   "source": [
    "100 not in l\n",
    "# Guess the output before execution"
   ]
  },
  {
   "cell_type": "markdown",
   "id": "d2c4d916",
   "metadata": {},
   "source": [
    "# Back to slides\n",
    "# Combining Conditionals:\n",
    "\n",
    "and:\t\t\t\tAre both of the conditionals True?\n",
    "\n",
    "or\t:\t\t\t\tIs one of the conditionals True?\n",
    "\n",
    "not :\t\t\t\tIs a conditional False?\n"
   ]
  },
  {
   "cell_type": "code",
   "execution_count": null,
   "id": "b05c9551",
   "metadata": {
    "scrolled": true
   },
   "outputs": [],
   "source": [
    "1 == 1 and 1 == 2"
   ]
  },
  {
   "cell_type": "code",
   "execution_count": null,
   "id": "2325c83b",
   "metadata": {},
   "outputs": [],
   "source": [
    "True or False"
   ]
  },
  {
   "cell_type": "code",
   "execution_count": null,
   "id": "e9edeac9",
   "metadata": {},
   "outputs": [],
   "source": [
    "False or True and False\n",
    "# Guess the output before execution"
   ]
  },
  {
   "cell_type": "markdown",
   "id": "c3c21ea9",
   "metadata": {},
   "source": [
    "# Back to slides\n",
    "## Assignment:\n",
    "Define a function that checks divisibility by two and three and returns True if a number is divisible by 6."
   ]
  },
  {
   "cell_type": "code",
   "execution_count": null,
   "id": "3bf86bf7",
   "metadata": {},
   "outputs": [],
   "source": [
    "# Define your function here."
   ]
  },
  {
   "cell_type": "code",
   "execution_count": null,
   "id": "6ad96b40",
   "metadata": {},
   "outputs": [],
   "source": [
    "# Test your function here."
   ]
  },
  {
   "cell_type": "markdown",
   "id": "64d83e87",
   "metadata": {},
   "source": [
    "# Back to slides\n",
    "# Conditionals:\n",
    "### if:\n",
    "Your first condition\n",
    "### elif:\t\t\t\t\t\n",
    "Next condition(s)\n",
    "### else:\t\t\t\t\t\n",
    "If all previous conditions are False\n"
   ]
  },
  {
   "cell_type": "code",
   "execution_count": null,
   "id": "bedfd6b9",
   "metadata": {},
   "outputs": [],
   "source": [
    "a = 83\n",
    "if a % 2 == 0:\n",
    "    print(a, 'is even')\n",
    "else:\n",
    "    print(a, 'is odd')"
   ]
  },
  {
   "cell_type": "code",
   "execution_count": null,
   "id": "abb2c4a4",
   "metadata": {},
   "outputs": [],
   "source": [
    "b = 84\n",
    "if b % 6 == 0:\n",
    "    print(b, 'is divisible by 2 and 3')\n",
    "elif b % 2 == 0:\n",
    "    print(b, 'is just divisible by 2')\n",
    "elif b % 3 == 0:\n",
    "    print(b, 'is just divisible by 3')\n",
    "else:\n",
    "    print(b, 'is not divisible by 2 and 3')"
   ]
  },
  {
   "cell_type": "markdown",
   "id": "3f49784f",
   "metadata": {},
   "source": [
    "<div style=\"text-align: center;\" lang=\"fa\" dir=\"ltr\">\n",
    "\n",
    "<a href=\"https://uk.ac.ir\" title=”SBUK”>\n",
    "    <img src=\"https://www.freepnglogos.com/uploads/telegram-logo-png-0.png\"\n",
    "         title=\"Telegram\"\n",
    "         alt=\"Telegram's logo\"\n",
    "         height=\"48\"\n",
    "         width=\"100\"/>\n",
    "    </a>\n",
    "    \n",
    "<h1><span style=\"color:red\">\n",
    "If you have any difficulties, reach me on Telegram at:\n",
    "    </span></h1>\n",
    "    <h3>\n",
    "         <a href=\"https://www.t.me/armmkh\" title=\"@armmkh\">+1(216)508-0291</a>\n",
    "    </h3>\n",
    "</div>"
   ]
  }
 ],
 "metadata": {
  "kernelspec": {
   "display_name": "Python 3 (ipykernel)",
   "language": "python",
   "name": "python3"
  },
  "language_info": {
   "codemirror_mode": {
    "name": "ipython",
    "version": 3
   },
   "file_extension": ".py",
   "mimetype": "text/x-python",
   "name": "python",
   "nbconvert_exporter": "python",
   "pygments_lexer": "ipython3",
   "version": "3.9.7"
  }
 },
 "nbformat": 4,
 "nbformat_minor": 5
}
