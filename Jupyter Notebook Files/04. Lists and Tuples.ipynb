{
 "cells": [
  {
   "cell_type": "markdown",
   "id": "b2acc4ea",
   "metadata": {},
   "source": [
    "<div style=\"text-align: center;\" lang=\"fa\" dir=\"rtl\">\n",
    "\n",
    "<a href=\"https://uk.ac.ir\" title=”SBUK”>\n",
    "    <img src=\"https://upload.wikimedia.org/wikipedia/commons/thumb/0/03/Bahonar_university.png/1200px-Bahonar_university.png\"\n",
    "         title=\"دانشگاه شهید باهنر کرمان\"\n",
    "         alt=\"لوگوی دانشگاه\"\n",
    "         height=\"48\"\n",
    "         width=\"100\"/>\n",
    "    </a>\n",
    "    \n",
    "<h1><span style=\"color:red\">\n",
    "Python for Data Science<br>Lists\n",
    "    </span></h1>\n",
    "    <h3>\n",
    "        Developed by <a href=\"https://www.arminmokhtari.ir\" title=\"ArminMokhtari.ir\">Armin Mokhtari</a>\n",
    "    </h3>\n",
    "</div>\n"
   ]
  },
  {
   "cell_type": "markdown",
   "id": "9236ae1a",
   "metadata": {},
   "source": [
    "# Lists in Python:\n",
    "### Lists are mutable"
   ]
  },
  {
   "cell_type": "code",
   "execution_count": null,
   "id": "d7be9d5f",
   "metadata": {
    "scrolled": true
   },
   "outputs": [],
   "source": [
    "suits = ['Hearts', 'Spades']\n",
    "suits"
   ]
  },
  {
   "cell_type": "code",
   "execution_count": null,
   "id": "2381807e",
   "metadata": {},
   "outputs": [],
   "source": [
    "suits += ['Clubs', 'Diamonds']\n",
    "suits"
   ]
  },
  {
   "cell_type": "markdown",
   "id": "25a65818",
   "metadata": {},
   "source": [
    "### A list can contain different data types"
   ]
  },
  {
   "cell_type": "code",
   "execution_count": null,
   "id": "46d4819f",
   "metadata": {},
   "outputs": [],
   "source": [
    "ranks = ['A', 'K', 'Q', 'J', 10, 9, 8, 7, 6, 5, 4, 3, 2]"
   ]
  },
  {
   "cell_type": "markdown",
   "id": "427fbfce",
   "metadata": {},
   "source": [
    "### A list can contain other lists"
   ]
  },
  {
   "cell_type": "code",
   "execution_count": null,
   "id": "7346606a",
   "metadata": {},
   "outputs": [],
   "source": [
    "l = [[1, 2, 3], [4, 5, 6], [7, 8, 9]]\n",
    "l"
   ]
  },
  {
   "cell_type": "code",
   "execution_count": null,
   "id": "37484a9c",
   "metadata": {},
   "outputs": [],
   "source": [
    "n = [\n",
    "    [1, 2, 3],\n",
    "    [4, 5, 6],\n",
    "    [7, 8, 9]]\n",
    "n == l"
   ]
  },
  {
   "cell_type": "markdown",
   "id": "3f2a73bd",
   "metadata": {},
   "source": [
    "# Back to slides\n",
    "# Indexing\n",
    "### A list is an ordered sequence.\n",
    "### What is your first-rank card?"
   ]
  },
  {
   "cell_type": "code",
   "execution_count": null,
   "id": "f1af072c",
   "metadata": {},
   "outputs": [],
   "source": [
    "# Python indexing starts with 0.\n",
    "ranks[0]"
   ]
  },
  {
   "cell_type": "markdown",
   "id": "c272742d",
   "metadata": {},
   "source": [
    "### What is your first-rank card?"
   ]
  },
  {
   "cell_type": "code",
   "execution_count": null,
   "id": "615491f6",
   "metadata": {},
   "outputs": [],
   "source": [
    "ranks[12]"
   ]
  },
  {
   "cell_type": "code",
   "execution_count": null,
   "id": "860e1148",
   "metadata": {},
   "outputs": [],
   "source": [
    "ranks[-1]\n",
    "# Guess the output before execution."
   ]
  },
  {
   "cell_type": "markdown",
   "id": "c9830f19",
   "metadata": {},
   "source": [
    "# Back to slides\n",
    "## Slicing:"
   ]
  },
  {
   "cell_type": "code",
   "execution_count": null,
   "id": "e2570194",
   "metadata": {},
   "outputs": [],
   "source": [
    "face_cards = ranks[1:4]\n",
    "face_cards"
   ]
  },
  {
   "cell_type": "code",
   "execution_count": null,
   "id": "c67f9214",
   "metadata": {},
   "outputs": [],
   "source": [
    "numeral_cards = ranks[4:]\n",
    "numeral_cards"
   ]
  },
  {
   "cell_type": "code",
   "execution_count": null,
   "id": "74b8174c",
   "metadata": {},
   "outputs": [],
   "source": [
    "picture_cards = ranks[:4]\n",
    "picture_cards"
   ]
  },
  {
   "cell_type": "markdown",
   "id": "bb489643",
   "metadata": {},
   "source": [
    "## Assignment:\n",
    "### A list named ranked is defined, using a single-line answer change A, K, Q, and J to Ace, King, Queen, and Jack."
   ]
  },
  {
   "cell_type": "code",
   "execution_count": null,
   "id": "c040e7c3",
   "metadata": {},
   "outputs": [],
   "source": [
    "# Write your answer here."
   ]
  },
  {
   "cell_type": "code",
   "execution_count": null,
   "id": "40f2ec6c",
   "metadata": {},
   "outputs": [],
   "source": [
    "# Run this cell to test your answer.\n",
    "ranks"
   ]
  },
  {
   "cell_type": "markdown",
   "id": "c44e0869",
   "metadata": {},
   "source": [
    "# Back to slides\n",
    "## Useful functions for lists:\n",
    "### len( )"
   ]
  },
  {
   "cell_type": "code",
   "execution_count": null,
   "id": "67e02c16",
   "metadata": {},
   "outputs": [],
   "source": [
    "len(ranks)"
   ]
  },
  {
   "cell_type": "markdown",
   "id": "00b2691f",
   "metadata": {},
   "source": [
    "### sorted( )"
   ]
  },
  {
   "cell_type": "code",
   "execution_count": null,
   "id": "36dd2ead",
   "metadata": {},
   "outputs": [],
   "source": [
    "suits"
   ]
  },
  {
   "cell_type": "code",
   "execution_count": null,
   "id": "057a5db1",
   "metadata": {},
   "outputs": [],
   "source": [
    "sorted(suits)"
   ]
  },
  {
   "cell_type": "code",
   "execution_count": null,
   "id": "8c85e912",
   "metadata": {
    "scrolled": true
   },
   "outputs": [],
   "source": [
    "sorted(ranks)\n",
    "# Guess the output before execution."
   ]
  },
  {
   "cell_type": "markdown",
   "id": "f84afc71",
   "metadata": {},
   "source": [
    "### sum( )"
   ]
  },
  {
   "cell_type": "code",
   "execution_count": null,
   "id": "7ae4503b",
   "metadata": {},
   "outputs": [],
   "source": [
    "numeral_cards"
   ]
  },
  {
   "cell_type": "code",
   "execution_count": null,
   "id": "2d8beac7",
   "metadata": {},
   "outputs": [],
   "source": [
    "sum(numeral_cards)"
   ]
  },
  {
   "cell_type": "markdown",
   "id": "fadb21c3",
   "metadata": {},
   "source": [
    "### min( ) / max( )"
   ]
  },
  {
   "cell_type": "code",
   "execution_count": null,
   "id": "c875dd93",
   "metadata": {},
   "outputs": [],
   "source": [
    "min(numeral_cards)"
   ]
  },
  {
   "cell_type": "code",
   "execution_count": null,
   "id": "9247306b",
   "metadata": {},
   "outputs": [],
   "source": [
    "max(numeral_cards)"
   ]
  },
  {
   "cell_type": "markdown",
   "id": "cc70be6e",
   "metadata": {},
   "source": [
    "# Back to slides\n",
    "## Useful methods for Lists:\n",
    "### .append( )"
   ]
  },
  {
   "cell_type": "code",
   "execution_count": null,
   "id": "408de077",
   "metadata": {},
   "outputs": [],
   "source": [
    "ranks.append('Black Joker')\n",
    "ranks"
   ]
  },
  {
   "cell_type": "markdown",
   "id": "9aaa3368",
   "metadata": {},
   "source": [
    "### .pop( )"
   ]
  },
  {
   "cell_type": "code",
   "execution_count": null,
   "id": "fe71e577",
   "metadata": {},
   "outputs": [],
   "source": [
    "ranks.pop()\n",
    "ranks"
   ]
  },
  {
   "cell_type": "markdown",
   "id": "24b48088",
   "metadata": {},
   "source": [
    "### .index( )"
   ]
  },
  {
   "cell_type": "code",
   "execution_count": null,
   "id": "ae9d7b27",
   "metadata": {},
   "outputs": [],
   "source": [
    "ranks.index('A')"
   ]
  },
  {
   "cell_type": "code",
   "execution_count": null,
   "id": "a58db54d",
   "metadata": {},
   "outputs": [],
   "source": [
    "ranks.index(2)"
   ]
  },
  {
   "cell_type": "code",
   "execution_count": null,
   "id": "f9997817",
   "metadata": {
    "scrolled": true
   },
   "outputs": [],
   "source": [
    "ranks.index('Black Joker')\n",
    "# Guess the answer before execution"
   ]
  },
  {
   "cell_type": "markdown",
   "id": "0b18ed4a",
   "metadata": {},
   "source": [
    "# Tuples:\n",
    "### Tuples are defined by parentheses instead of square brackets.\n",
    "### A tuple is also an ordered sequence like a list.\n",
    "### Tuples are immutable."
   ]
  },
  {
   "cell_type": "code",
   "execution_count": null,
   "id": "7ddcb591",
   "metadata": {},
   "outputs": [],
   "source": [
    "t = (1,2,3)\n",
    "t"
   ]
  },
  {
   "cell_type": "code",
   "execution_count": null,
   "id": "ebcab8f6",
   "metadata": {},
   "outputs": [],
   "source": [
    "t[1]"
   ]
  },
  {
   "cell_type": "code",
   "execution_count": null,
   "id": "4fc3b553",
   "metadata": {},
   "outputs": [],
   "source": [
    "t[:2]"
   ]
  },
  {
   "cell_type": "code",
   "execution_count": null,
   "id": "8fa24f92",
   "metadata": {
    "scrolled": true
   },
   "outputs": [],
   "source": [
    "t.append(4)\n",
    "# Guess the output before execution."
   ]
  },
  {
   "cell_type": "code",
   "execution_count": null,
   "id": "ea282c7d",
   "metadata": {},
   "outputs": [],
   "source": [
    "t[2] = 4\n",
    "# Guess the output before execution."
   ]
  },
  {
   "cell_type": "markdown",
   "id": "3f49784f",
   "metadata": {},
   "source": [
    "<div style=\"text-align: center;\" lang=\"fa\" dir=\"ltr\">\n",
    "\n",
    "<a href=\"https://uk.ac.ir\" title=”SBUK”>\n",
    "    <img src=\"https://www.freepnglogos.com/uploads/telegram-logo-png-0.png\"\n",
    "         title=\"Telegram\"\n",
    "         alt=\"Telegram's logo\"\n",
    "         height=\"48\"\n",
    "         width=\"100\"/>\n",
    "    </a>\n",
    "    \n",
    "<h1><span style=\"color:red\">\n",
    "If you have any difficulties, reach me on Telegram at:\n",
    "    </span></h1>\n",
    "    <h3>\n",
    "         <a href=\"https://www.t.me/armmkh\" title=\"@armmkh\">+1(216)508-0291</a>\n",
    "    </h3>\n",
    "</div>"
   ]
  }
 ],
 "metadata": {
  "kernelspec": {
   "display_name": "Python 3 (ipykernel)",
   "language": "python",
   "name": "python3"
  },
  "language_info": {
   "codemirror_mode": {
    "name": "ipython",
    "version": 3
   },
   "file_extension": ".py",
   "mimetype": "text/x-python",
   "name": "python",
   "nbconvert_exporter": "python",
   "pygments_lexer": "ipython3",
   "version": "3.9.7"
  }
 },
 "nbformat": 4,
 "nbformat_minor": 5
}
