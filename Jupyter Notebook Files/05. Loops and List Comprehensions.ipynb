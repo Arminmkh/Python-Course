{
 "cells": [
  {
   "cell_type": "markdown",
   "id": "b2acc4ea",
   "metadata": {},
   "source": [
    "<div style=\"text-align: center;\" lang=\"fa\" dir=\"rtl\">\n",
    "\n",
    "<a href=\"https://uk.ac.ir\" title=”SBUK”>\n",
    "    <img src=\"https://upload.wikimedia.org/wikipedia/commons/thumb/0/03/Bahonar_university.png/1200px-Bahonar_university.png\"\n",
    "         title=\"دانشگاه شهید باهنر کرمان\"\n",
    "         alt=\"لوگوی دانشگاه\"\n",
    "         height=\"48\"\n",
    "         width=\"100\"/>\n",
    "    </a>\n",
    "    \n",
    "<h1><span style=\"color:red\">\n",
    "Python for Data Science<br>Loops and List Comprehensions\n",
    "    </span></h1>\n",
    "    <h3>\n",
    "        Developed by <a href=\"https://www.arminmokhtari.ir\" title=\"ArminMokhtari.ir\">Armin Mokhtari</a>\n",
    "    </h3>\n",
    "</div>\n"
   ]
  },
  {
   "cell_type": "markdown",
   "id": "9236ae1a",
   "metadata": {},
   "source": [
    "# Loops in Python:\n",
    "### while\n",
    "As long as a condition is True, \"while\" executes a chunk of code. "
   ]
  },
  {
   "cell_type": "code",
   "execution_count": null,
   "id": "d7be9d5f",
   "metadata": {
    "scrolled": true
   },
   "outputs": [],
   "source": [
    "eggs = 10\n",
    "while eggs >= 0:\n",
    "    print(\"You have\", eggs, \"eggs!\")\n",
    "    eggs -= 1"
   ]
  },
  {
   "cell_type": "code",
   "execution_count": null,
   "id": "2381807e",
   "metadata": {},
   "outputs": [],
   "source": [
    "c = 2000\n",
    "while c > 0:\n",
    "    print(c, \"is passed\")\n",
    "    year += 1\n",
    "# Guess the output befire execution."
   ]
  },
  {
   "cell_type": "markdown",
   "id": "25a65818",
   "metadata": {},
   "source": [
    "### break\n",
    "You can use *break* in loops."
   ]
  },
  {
   "cell_type": "code",
   "execution_count": null,
   "id": "11f0cb77",
   "metadata": {},
   "outputs": [],
   "source": [
    "c = 2000\n",
    "while c > 0:\n",
    "    print(c, \"is passed\")\n",
    "    c += 1\n",
    "    if c == 2022:\n",
    "        break"
   ]
  },
  {
   "cell_type": "markdown",
   "id": "4b8bc466",
   "metadata": {},
   "source": [
    "### continue\n",
    "You can use *continue* in loops."
   ]
  },
  {
   "cell_type": "code",
   "execution_count": null,
   "id": "b83f8db6",
   "metadata": {},
   "outputs": [],
   "source": [
    "n = 0\n",
    "while n < 10:\n",
    "    n += 1\n",
    "    if n == 5:\n",
    "        continue\n",
    "    print(n)"
   ]
  },
  {
   "cell_type": "markdown",
   "id": "2818c701",
   "metadata": {},
   "source": [
    "## else\n",
    "You can use *else* with loops."
   ]
  },
  {
   "cell_type": "code",
   "execution_count": null,
   "id": "cf3316bd",
   "metadata": {},
   "outputs": [],
   "source": [
    "n = 0\n",
    "while n < 10:\n",
    "    n += 1\n",
    "    print(n)\n",
    "else:\n",
    "    print(\"n is greater than 10\")"
   ]
  },
  {
   "cell_type": "markdown",
   "id": "47b57c34",
   "metadata": {},
   "source": [
    "## Assignment:\n",
    "Develop a program that prints from 1 to 100 except multiples of 4."
   ]
  },
  {
   "cell_type": "code",
   "execution_count": null,
   "id": "ee584ecf",
   "metadata": {
    "scrolled": true
   },
   "outputs": [],
   "source": [
    "# Write your code here."
   ]
  },
  {
   "cell_type": "markdown",
   "id": "d9359682",
   "metadata": {},
   "source": [
    "# Back to slides.\n",
    "# for \n",
    "## for loop on a list:"
   ]
  },
  {
   "cell_type": "code",
   "execution_count": null,
   "id": "352ec81b",
   "metadata": {},
   "outputs": [],
   "source": [
    "suits = [\"clubs\", \"diamonds\", \"hearts\", \"spades\"]\n",
    "for x in suits:\n",
    "    print(x)"
   ]
  },
  {
   "cell_type": "markdown",
   "id": "21bbafd4",
   "metadata": {},
   "source": [
    "## for loop on a string:"
   ]
  },
  {
   "cell_type": "code",
   "execution_count": null,
   "id": "f4145f2d",
   "metadata": {},
   "outputs": [],
   "source": [
    "for x in \"apple\":\n",
    "    print(x)"
   ]
  },
  {
   "cell_type": "markdown",
   "id": "37f211fe",
   "metadata": {},
   "source": [
    "## Break\n",
    "You can use *break* here, as well."
   ]
  },
  {
   "cell_type": "code",
   "execution_count": null,
   "id": "7d707570",
   "metadata": {
    "scrolled": true
   },
   "outputs": [],
   "source": [
    "ranks = ['A', 'K', 'Q', 'J', 10, 9, 8, 7, 6, 5, 4, 3, 2, \"Joker\"]\n",
    "for y in ranks:\n",
    "    print(y)\n",
    "    if y == 2:\n",
    "        break"
   ]
  },
  {
   "cell_type": "markdown",
   "id": "71cbe657",
   "metadata": {},
   "source": [
    "## continue\n",
    "You can use *continue* here, as well."
   ]
  },
  {
   "cell_type": "code",
   "execution_count": null,
   "id": "46d4819f",
   "metadata": {},
   "outputs": [],
   "source": [
    "for y in ranks:\n",
    "    if y == 'Q':\n",
    "        continue\n",
    "    print(y)"
   ]
  },
  {
   "cell_type": "markdown",
   "id": "707d0509",
   "metadata": {},
   "source": [
    "## else\n",
    "You can use *else* here, as well."
   ]
  },
  {
   "cell_type": "code",
   "execution_count": null,
   "id": "8ec70ab5",
   "metadata": {},
   "outputs": [],
   "source": [
    "for y in ranks:\n",
    "    print(y)\n",
    "else:\n",
    "    print(\"You do not have any cards!\")"
   ]
  },
  {
   "cell_type": "markdown",
   "id": "a1187d91",
   "metadata": {},
   "source": [
    "## range( )\n",
    "range( ) can be used alongside loops."
   ]
  },
  {
   "cell_type": "code",
   "execution_count": null,
   "id": "3daa5580",
   "metadata": {
    "scrolled": true
   },
   "outputs": [],
   "source": [
    "for i in range(2, 10, 2):\n",
    "    print(i)"
   ]
  },
  {
   "cell_type": "markdown",
   "id": "21a51de9",
   "metadata": {},
   "source": [
    "## pass\n",
    "pass can be used if you want to have a loop with no contents."
   ]
  },
  {
   "cell_type": "code",
   "execution_count": null,
   "id": "80116ed7",
   "metadata": {},
   "outputs": [],
   "source": [
    "for x in range(10**8):\n",
    "    pass"
   ]
  },
  {
   "cell_type": "markdown",
   "id": "eb31d518",
   "metadata": {},
   "source": [
    "## Assignment:\n",
    "Print a Standard 52-card deck using for loop and two seperate lists of ranks and suits."
   ]
  },
  {
   "cell_type": "code",
   "execution_count": null,
   "id": "a4501db9",
   "metadata": {},
   "outputs": [],
   "source": [
    "# write your answer here."
   ]
  },
  {
   "cell_type": "markdown",
   "id": "1893dde0",
   "metadata": {},
   "source": [
    "# Back to slides.\n",
    "# List comprehensions\n",
    "You can define a list using for loop in python."
   ]
  },
  {
   "cell_type": "code",
   "execution_count": null,
   "id": "7346606a",
   "metadata": {},
   "outputs": [],
   "source": [
    "odds = [n for n in range(1, 10, 2)]\n",
    "odds"
   ]
  },
  {
   "cell_type": "code",
   "execution_count": null,
   "id": "5aa0675f",
   "metadata": {},
   "outputs": [],
   "source": [
    "evens = [2*n for n in range(11)]\n",
    "evens"
   ]
  },
  {
   "cell_type": "code",
   "execution_count": null,
   "id": "4d106ba7",
   "metadata": {},
   "outputs": [],
   "source": [
    "pow2 = [2**n for n in range(11)]\n",
    "pow2"
   ]
  },
  {
   "cell_type": "markdown",
   "id": "71952e5c",
   "metadata": {},
   "source": [
    "## Assignment:\n",
    "Using list comprehension, create a list including 1 to 100 except multiples of 6."
   ]
  },
  {
   "cell_type": "code",
   "execution_count": null,
   "id": "637b7255",
   "metadata": {},
   "outputs": [],
   "source": [
    "# Write your answer here."
   ]
  },
  {
   "cell_type": "markdown",
   "id": "3f49784f",
   "metadata": {},
   "source": [
    "<div style=\"text-align: center;\" lang=\"fa\" dir=\"ltr\">\n",
    "\n",
    "<a href=\"https://uk.ac.ir\" title=”SBUK”>\n",
    "    <img src=\"https://www.freepnglogos.com/uploads/telegram-logo-png-0.png\"\n",
    "         title=\"Telegram\"\n",
    "         alt=\"Telegram's logo\"\n",
    "         height=\"48\"\n",
    "         width=\"100\"/>\n",
    "    </a>\n",
    "    \n",
    "<h1><span style=\"color:red\">\n",
    "If you have any difficulties, reach me on Telegram at:\n",
    "    </span></h1>\n",
    "    <h3>\n",
    "         <a href=\"https://www.t.me/armmkh\" title=\"@armmkh\">+1(216)508-0291</a>\n",
    "    </h3>\n",
    "</div>"
   ]
  }
 ],
 "metadata": {
  "kernelspec": {
   "display_name": "Python 3 (ipykernel)",
   "language": "python",
   "name": "python3"
  },
  "language_info": {
   "codemirror_mode": {
    "name": "ipython",
    "version": 3
   },
   "file_extension": ".py",
   "mimetype": "text/x-python",
   "name": "python",
   "nbconvert_exporter": "python",
   "pygments_lexer": "ipython3",
   "version": "3.9.7"
  }
 },
 "nbformat": 4,
 "nbformat_minor": 5
}
