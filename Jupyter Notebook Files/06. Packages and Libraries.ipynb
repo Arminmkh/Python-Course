{
 "cells": [
  {
   "cell_type": "markdown",
   "id": "b2acc4ea",
   "metadata": {},
   "source": [
    "<div style=\"text-align: center;\" lang=\"fa\" dir=\"rtl\">\n",
    "\n",
    "<a href=\"https://uk.ac.ir\" title=”SBUK”>\n",
    "    <img src=\"https://upload.wikimedia.org/wikipedia/commons/thumb/0/03/Bahonar_university.png/1200px-Bahonar_university.png\"\n",
    "         title=\"دانشگاه شهید باهنر کرمان\"\n",
    "         alt=\"لوگوی دانشگاه\"\n",
    "         height=\"48\"\n",
    "         width=\"100\"/>\n",
    "    </a>\n",
    "    \n",
    "<h1><span style=\"color:red\">\n",
    "Python for Data Science<br>Packages and Libraries\n",
    "    </span></h1>\n",
    "    <h3>\n",
    "        Developed by <a href=\"https://www.arminmokhtari.ir\" title=\"ArminMokhtari.ir\">Armin Mokhtari</a>\n",
    "    </h3>\n",
    "</div>\n"
   ]
  },
  {
   "cell_type": "markdown",
   "id": "ceeadc14",
   "metadata": {},
   "source": [
    "# pip\n",
    "### pip is a tool for downloading and installing packages.\n",
    "\n",
    "Do I have pip installed?\n",
    "\n",
    "Let's check..."
   ]
  },
  {
   "cell_type": "code",
   "execution_count": null,
   "id": "3aa65423",
   "metadata": {
    "scrolled": true
   },
   "outputs": [],
   "source": [
    "pip --version"
   ]
  },
  {
   "cell_type": "markdown",
   "id": "44a7f6cd",
   "metadata": {},
   "source": [
    "If you do not have it installed, you can get it from following link:\n",
    "\n",
    " https://pypi.org/project/pip/\n",
    " ### Back to slides\n"
   ]
  },
  {
   "cell_type": "markdown",
   "id": "8de4ecf7",
   "metadata": {},
   "source": [
    " # Packages\n",
    " ### A package is a set of files that are needed for a library.\n",
    " ### A library is a module that can be used in projects.\n",
    "You can find many different packages here:\n",
    "\n",
    "https://pypi.org/"
   ]
  },
  {
   "cell_type": "code",
   "execution_count": null,
   "id": "d8105a1a",
   "metadata": {
    "scrolled": true
   },
   "outputs": [],
   "source": [
    "pip install numpy"
   ]
  },
  {
   "cell_type": "code",
   "execution_count": null,
   "id": "b91cc218",
   "metadata": {
    "scrolled": true
   },
   "outputs": [],
   "source": [
    "pip install pandas"
   ]
  },
  {
   "cell_type": "markdown",
   "id": "d7cea8fd",
   "metadata": {},
   "source": [
    "### Back to slides"
   ]
  },
  {
   "cell_type": "markdown",
   "id": "b17f006b",
   "metadata": {},
   "source": [
    "## pip list:"
   ]
  },
  {
   "cell_type": "code",
   "execution_count": null,
   "id": "820efdda",
   "metadata": {},
   "outputs": [],
   "source": [
    "pip list"
   ]
  },
  {
   "cell_type": "markdown",
   "id": "a70da6b6",
   "metadata": {},
   "source": [
    "### Back to slides"
   ]
  },
  {
   "cell_type": "markdown",
   "id": "be815c57",
   "metadata": {},
   "source": [
    "# Importing a library in your project:"
   ]
  },
  {
   "cell_type": "code",
   "execution_count": null,
   "id": "8a9bc46d",
   "metadata": {},
   "outputs": [],
   "source": [
    "import math"
   ]
  },
  {
   "cell_type": "markdown",
   "id": "c1b23299",
   "metadata": {},
   "source": [
    "## What is type of a library?\n",
    "\n",
    "Let's ask from type()"
   ]
  },
  {
   "cell_type": "code",
   "execution_count": null,
   "id": "7f60290e",
   "metadata": {},
   "outputs": [],
   "source": [
    "type(math)"
   ]
  },
  {
   "cell_type": "markdown",
   "id": "280c79cf",
   "metadata": {},
   "source": [
    "## So, it's a module! What variables does it have?"
   ]
  },
  {
   "cell_type": "code",
   "execution_count": null,
   "id": "3806da41",
   "metadata": {},
   "outputs": [],
   "source": [
    "dir(math)"
   ]
  },
  {
   "cell_type": "markdown",
   "id": "bad289f7",
   "metadata": {},
   "source": [
    "## You can get help() for math library."
   ]
  },
  {
   "cell_type": "code",
   "execution_count": null,
   "id": "299f979b",
   "metadata": {},
   "outputs": [],
   "source": [
    "help(math)"
   ]
  },
  {
   "cell_type": "markdown",
   "id": "c356fb6b",
   "metadata": {},
   "source": [
    "## What is floor?\n",
    "\n",
    "Let's get help()."
   ]
  },
  {
   "cell_type": "code",
   "execution_count": null,
   "id": "5ab69e6a",
   "metadata": {
    "scrolled": true
   },
   "outputs": [],
   "source": [
    "help(math.floor)"
   ]
  },
  {
   "cell_type": "markdown",
   "id": "a5704163",
   "metadata": {},
   "source": [
    "# Assignment\n",
    "### Define a function that takes in x and y, and returns the logarithm of x to the base of y using math library."
   ]
  },
  {
   "cell_type": "code",
   "execution_count": null,
   "id": "6ffe70c2",
   "metadata": {},
   "outputs": [],
   "source": [
    "# Write your answer here."
   ]
  },
  {
   "cell_type": "code",
   "execution_count": null,
   "id": "c03b397d",
   "metadata": {},
   "outputs": [],
   "source": [
    "# Test your answer here."
   ]
  },
  {
   "cell_type": "markdown",
   "id": "08fe1671",
   "metadata": {},
   "source": [
    "### Back to slides"
   ]
  },
  {
   "cell_type": "markdown",
   "id": "cd431a5e",
   "metadata": {},
   "source": [
    "# Rename an imported library:\n",
    "### First way:"
   ]
  },
  {
   "cell_type": "code",
   "execution_count": null,
   "id": "72e09e7d",
   "metadata": {},
   "outputs": [],
   "source": [
    "import math\n",
    "mt = math"
   ]
  },
  {
   "cell_type": "markdown",
   "id": "f20881e1",
   "metadata": {},
   "source": [
    "### Simpler way:"
   ]
  },
  {
   "cell_type": "code",
   "execution_count": null,
   "id": "7f3362fc",
   "metadata": {},
   "outputs": [],
   "source": [
    "import math as mt"
   ]
  },
  {
   "cell_type": "code",
   "execution_count": null,
   "id": "511c4615",
   "metadata": {},
   "outputs": [],
   "source": [
    "import pandas as pd"
   ]
  },
  {
   "cell_type": "code",
   "execution_count": null,
   "id": "3836a103",
   "metadata": {},
   "outputs": [],
   "source": [
    "import numpy as np"
   ]
  },
  {
   "cell_type": "markdown",
   "id": "b589bf2c",
   "metadata": {},
   "source": [
    "### Back to slides"
   ]
  },
  {
   "cell_type": "markdown",
   "id": "a353e888",
   "metadata": {},
   "source": [
    "# How to import specific functions from a library?\n",
    "from library_name import function_name\n"
   ]
  },
  {
   "cell_type": "code",
   "execution_count": null,
   "id": "a474efbd",
   "metadata": {},
   "outputs": [],
   "source": [
    "from math import log"
   ]
  },
  {
   "cell_type": "markdown",
   "id": "3f22a7d6",
   "metadata": {},
   "source": [
    "### In this way, you do not need any dotted prefix to recall the function.\n",
    "\n",
    "Let's try..."
   ]
  },
  {
   "cell_type": "code",
   "execution_count": null,
   "id": "41fe43fb",
   "metadata": {},
   "outputs": [],
   "source": [
    "log(32,2)"
   ]
  },
  {
   "cell_type": "markdown",
   "id": "8e1edbe0",
   "metadata": {},
   "source": [
    "### You can import all functions of a library at once using *."
   ]
  },
  {
   "cell_type": "code",
   "execution_count": null,
   "id": "001964b8",
   "metadata": {},
   "outputs": [],
   "source": [
    "from math import *"
   ]
  },
  {
   "cell_type": "markdown",
   "id": "199f21db",
   "metadata": {},
   "source": [
    "Now you do not need dotted prefix for any of those functions. see:"
   ]
  },
  {
   "cell_type": "code",
   "execution_count": null,
   "id": "ea97d368",
   "metadata": {},
   "outputs": [],
   "source": [
    "log(32,2)"
   ]
  },
  {
   "cell_type": "markdown",
   "id": "3b3b7bed",
   "metadata": {},
   "source": [
    "### Is it a good approach to use *? why? why not?"
   ]
  },
  {
   "cell_type": "code",
   "execution_count": null,
   "id": "b79da57c",
   "metadata": {
    "scrolled": true
   },
   "outputs": [],
   "source": [
    "from numpy import *\n",
    "log(32, 2)"
   ]
  },
  {
   "cell_type": "code",
   "execution_count": null,
   "id": "ec3a0fb8",
   "metadata": {},
   "outputs": [],
   "source": [
    "import numpy\n",
    "help(numpy)"
   ]
  },
  {
   "cell_type": "markdown",
   "id": "08eaac64",
   "metadata": {},
   "source": [
    "### Back to slides"
   ]
  },
  {
   "cell_type": "markdown",
   "id": "e8e132e7",
   "metadata": {},
   "source": [
    "# Assignment\n",
    "### Use numpy random submodule to define a function that takes in number of dice rolls (n) and returns n random numbers between 1 and 6."
   ]
  },
  {
   "cell_type": "code",
   "execution_count": null,
   "id": "cd0e11ae",
   "metadata": {},
   "outputs": [],
   "source": [
    "# write your answer here"
   ]
  },
  {
   "cell_type": "code",
   "execution_count": null,
   "id": "36332853",
   "metadata": {},
   "outputs": [],
   "source": [
    "#test your answer here"
   ]
  },
  {
   "cell_type": "markdown",
   "id": "3f49784f",
   "metadata": {},
   "source": [
    "<div style=\"text-align: center;\" lang=\"fa\" dir=\"ltr\">\n",
    "\n",
    "<a href=\"https://uk.ac.ir\" title=”SBUK”>\n",
    "    <img src=\"https://www.freepnglogos.com/uploads/telegram-logo-png-0.png\"\n",
    "         title=\"Telegram\"\n",
    "         alt=\"Telegram's logo\"\n",
    "         height=\"48\"\n",
    "         width=\"100\"/>\n",
    "    </a>\n",
    "    \n",
    "<h1><span style=\"color:red\">\n",
    "If you have any difficulties, reach me on Telegram at:\n",
    "    </span></h1>\n",
    "    <h3>\n",
    "         <a href=\"https://www.t.me/armmkh\" title=\"@armmkh\">+1(216)508-0291</a>\n",
    "    </h3>\n",
    "</div>"
   ]
  }
 ],
 "metadata": {
  "kernelspec": {
   "display_name": "Python 3 (ipykernel)",
   "language": "python",
   "name": "python3"
  },
  "language_info": {
   "codemirror_mode": {
    "name": "ipython",
    "version": 3
   },
   "file_extension": ".py",
   "mimetype": "text/x-python",
   "name": "python",
   "nbconvert_exporter": "python",
   "pygments_lexer": "ipython3",
   "version": "3.9.7"
  }
 },
 "nbformat": 4,
 "nbformat_minor": 5
}
